{
 "cells": [
  {
   "cell_type": "code",
   "execution_count": 13,
   "metadata": {},
   "outputs": [],
   "source": [
    "from mlxtend.data import loadlocal_mnist\n",
    "import numpy as np\n",
    "import matplotlib as plt\n",
    "import matplotlib.pyplot as plt \n",
    "import statsmodels.api as sm\n",
    "import pandas as pd\n",
    "\n",
    "#df = pd.read_csv('data.csv') Your file path should be in quotations Here's a cool/lazy trick using the terminal...\n",
    "\n",
    "df = pd.read_csv('/Users/ednovate/austin_police_data/austin_data.csv')\n"
   ]
  },
  {
   "cell_type": "code",
   "execution_count": 14,
   "metadata": {},
   "outputs": [
    {
     "data": {
      "text/plain": [
       "<matplotlib.axes._subplots.AxesSubplot at 0x1c3df9a450>"
      ]
     },
     "execution_count": 14,
     "metadata": {},
     "output_type": "execute_result"
    },
    {
     "data": {
      "image/png": "[encoded data removed]",
      "text/plain": [
       "<Figure size 432x288 with 1 Axes>"
      ]
     },
     "metadata": {
      "needs_background": "light"
     },
     "output_type": "display_data"
    }
   ],
   "source": [
    "\n",
    "## For categorical variables\n",
    "\n",
    "# name_of_data_frame['column_name'].value_counts.plot(kind = 'bar')\n",
    "\n",
    "df['subject_sex'].value_counts().plot(kind='bar')\n"
   ]
  },
  {
   "cell_type": "code",
   "execution_count": null,
   "metadata": {},
   "outputs": [],
   "source": [
    "## Make some barplots of your own! Screen shot and send me any ones that you would like to project and talk about with the class.\n",
    "\n",
    "\n"
   ]
  },
  {
   "cell_type": "code",
   "execution_count": 15,
   "metadata": {},
   "outputs": [
    {
     "data": {
      "text/plain": [
       "<matplotlib.axes._subplots.AxesSubplot at 0x1c1e062e50>"
      ]
     },
     "execution_count": 15,
     "metadata": {},
     "output_type": "execute_result"
    },
    {
     "data": {
      "image/png": "[encoded data removed]",
      "text/plain": [
       "<Figure size 432x288 with 1 Axes>"
      ]
     },
     "metadata": {
      "needs_background": "light"
     },
     "output_type": "display_data"
    }
   ],
   "source": [
    "# bar plots with numeric data\n",
    "\n",
    "df['subject_race'].value_counts().plot(kind = 'bar')\n"
   ]
  },
  {
   "cell_type": "code",
   "execution_count": 16,
   "metadata": {},
   "outputs": [
    {
     "data": {
      "text/plain": [
       "white                     268058\n",
       "hispanic                  123943\n",
       "black                      72324\n",
       "asian/pacific islander     13167\n",
       "unknown                     3135\n",
       "other                       2626\n",
       "Name: subject_race, dtype: int64"
      ]
     },
     "execution_count": 16,
     "metadata": {},
     "output_type": "execute_result"
    }
   ],
   "source": [
    "#Does this tell the whole story? Why or why not? \n",
    "# How can we tell if the amount of traffic stops is disproportionate to the population?\n",
    "\n",
    "\n",
    "df['subject_race'].value_counts()\n"
   ]
  },
  {
   "cell_type": "code",
   "execution_count": 17,
   "metadata": {},
   "outputs": [
    {
     "data": {
      "text/plain": [
       "white                     0.554695\n",
       "hispanic                  0.256476\n",
       "black                     0.149661\n",
       "asian/pacific islander    0.027247\n",
       "unknown                   0.006487\n",
       "other                     0.005434\n",
       "Name: subject_race, dtype: float64"
      ]
     },
     "execution_count": 17,
     "metadata": {},
     "output_type": "execute_result"
    }
   ],
   "source": [
    "\n",
    "stop_vector  = df['subject_race'].value_counts(normalize = 'true')\n",
    "\n",
    "\n",
    "stop_vector\n"
   ]
  },
  {
   "cell_type": "code",
   "execution_count": 18,
   "metadata": {},
   "outputs": [
    {
     "data": {
      "text/plain": [
       "<matplotlib.legend.Legend at 0x1c1e7a0990>"
      ]
     },
     "execution_count": 18,
     "metadata": {},
     "output_type": "execute_result"
    },
    {
     "data": {
      "image/png": "[encoded data removed]",
      "text/plain": [
       "<Figure size 432x288 with 1 Axes>"
      ]
     },
     "metadata": {
      "needs_background": "light"
     },
     "output_type": "display_data"
    }
   ],
   "source": [
    "#There is probably a much better way to do this, but here we go\n",
    "\n",
    "# convert value count to a list, so that we can do a grouped bar chart\n",
    "stop_vector  = df['subject_race'].value_counts(normalize = 'true').tolist()\n",
    "\n",
    "#Just to debug. 99% of debugging is just printing stuff out and seeing if it does what you want^(TM)\n",
    "stop_vector\n",
    "\n",
    "# \n",
    "labels = ['White', 'Hispanic', 'Black', 'AAPI', 'Unknown', 'Other']\n",
    "\n",
    "#Enter in a vector (0,1) that match the labels. Ex: White people are 48.7%, so put 0.487 as the first entry, then the Hispanic number, etc. \n",
    "population_vector = [ 0.487, 0.351, 0.077, 0.063, 0, 0.002 ]\n",
    "\n",
    "\n",
    "x = np.arange(len(labels))  # the label locations\n",
    "width = 0.35  # the width of the bars\n",
    "\n",
    "fig, ax = plt.subplots()\n",
    "rects1 = ax.bar(x - width/2, stop_vector, width, label='pct stops')\n",
    "rects2 = ax.bar(x + width/2, population_vector, width, label='pct pop')\n",
    "\n",
    "# Add some text for labels, title and custom x-axis tick labels, etc.\n",
    "ax.set_ylabel('Percentage')\n",
    "ax.set_title('Race')\n",
    "ax.set_xticks(x)\n",
    "ax.set_xticklabels(labels)\n",
    "ax.legend()\n",
    "\n",
    "\n",
    "\n"
   ]
  },
  {
   "cell_type": "code",
   "execution_count": 19,
   "metadata": {},
   "outputs": [
    {
     "name": "stdout",
     "output_type": "stream",
     "text": [
      "The difference for White is 6.769495274731874%\n",
      "The difference for Hispanic is -9.45235787465365%\n",
      "The difference for Black is 7.266073671555066%\n",
      "The difference for AAPI is -3.5753402462064385%\n",
      "The difference for Unknown is 0.6487285128079908%\n",
      "The difference for Other is 0.3434006617651623%\n"
     ]
    }
   ],
   "source": [
    "\n",
    "##notice that my range for the for loop is the length of the vector\n",
    "\n",
    "for i in range(len(stop_vector)):\n",
    "    difference = stop_vector[i]-population_vector[i]\n",
    "    print( 'The difference for ' + labels[i] + ' is ' + str(100*difference) + '%' )"
   ]
  },
  {
   "cell_type": "code",
   "execution_count": null,
   "metadata": {},
   "outputs": [],
   "source": [
    "#  Question: How much more likely are black motorists to be pulled over than everyone else? (Remember: odds = p/(1-p))\n"
   ]
  },
  {
   "cell_type": "code",
   "execution_count": null,
   "metadata": {},
   "outputs": [],
   "source": [
    "# let's run some linear models....no worries if you don't understand any of this\n",
    "\n",
    "##The type of linear regression we will be doing is called regression using dummy variables. \n",
    "## Here each Beta refers to a specific race, for example, Beta1 could equal 0 if the stop is a Hispanic person and zero otherwise, and so on and so on... \n",
    "\n",
    "\n",
    "\n",
    "## make a data frame out of dummy variables\n",
    "\n",
    "just_dummies = pd.get_dummies(df.subject_race)\n",
    "just_dummies\n"
   ]
  },
  {
   "cell_type": "code",
   "execution_count": null,
   "metadata": {},
   "outputs": [],
   "source": [
    "##Bind dummy variables back with the original data set\n",
    "\n",
    "df_with_dummies = pd.concat([df, just_dummies], axis=1)\n",
    "\n",
    "\n",
    "df_with_dummies.head()\n",
    "\n",
    "# This is how you can run regression using categorical variables. This isn't a great idea if you have a lot of categorical outcomes in one\n",
    "#column, as it will create that many more columns.\n"
   ]
  },
  {
   "cell_type": "markdown",
   "metadata": {},
   "source": [
    "x2 = ['subject_race']\n",
    "y2 = ['frisk performed']\n",
    "\n",
    "x = sm.add_constant(x2)\n",
    "results = sm.OLS(y2,x).fit()\n",
    "results.summary()"
   ]
  },
  {
   "cell_type": "code",
   "execution_count": null,
   "metadata": {},
   "outputs": [],
   "source": [
    "\n"
   ]
  },
  {
   "cell_type": "code",
   "execution_count": null,
   "metadata": {},
   "outputs": [],
   "source": [
    "#age is a (somewhat) continuous variable, so it's a little easier\n",
    "\n",
    "regr = LinearRegression()\n",
    "\n",
    "\n",
    "##You only need to do this if \"NA\" not available values need to be removed, as they often do with these sorts of datasets\n",
    "\n",
    "df_drop = df.dropna(subset = ['subject_age'])\n",
    "\n",
    "\n",
    "# specify input variable\n",
    "\n",
    "x1 = df_drop['subject_age']\n",
    "\n",
    "#specify output variable\n",
    "\n",
    "\n",
    "y = df_drop['search_vehicle']\n",
    "\n",
    "results = sm.OLS(y,x1).fit()\n",
    "results.summary()"
   ]
  },
  {
   "cell_type": "code",
   "execution_count": null,
   "metadata": {},
   "outputs": [],
   "source": []
  },
  {
   "cell_type": "code",
   "execution_count": null,
   "metadata": {},
   "outputs": [],
   "source": []
  }
 ],
 "metadata": {
  "kernelspec": {
   "display_name": "Python 3",
   "language": "python",
   "name": "python3"
  },
  "language_info": {
   "codemirror_mode": {
    "name": "ipython",
    "version": 3
   },
   "file_extension": ".py",
   "mimetype": "text/x-python",
   "name": "python",
   "nbconvert_exporter": "python",
   "pygments_lexer": "ipython3",
   "version": "3.7.4"
  }
 },
 "nbformat": 4,
 "nbformat_minor": 4
}
